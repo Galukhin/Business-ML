{
 "cells": [
  {
   "cell_type": "markdown",
   "metadata": {},
   "source": [
    "### Урок 2. #Профилирование пользователей. Сегментация аудитории: unsupervised learning (clustering, LDA/ARTM), supervised (multi/binary classification)#"
   ]
  },
  {
   "cell_type": "markdown",
   "metadata": {},
   "source": [
    "### Домашнее задание"
   ]
  },
  {
   "cell_type": "markdown",
   "metadata": {},
   "source": [
    "1. Самостоятельно разобраться с тем, что такое tfidf (документация https://scikit-learn.org/stable/modules/generated/sklearn.feature_extraction.text.TfidfVectorizer.html и еще - https://scikit-learn.org/stable/modules/feature_extraction.html#text-feature-extraction)\n",
    "2. Модифицировать код функции get_user_embedding таким образом, чтобы считалось не среднее (как в примере np.mean), а медиана. Применить такое преобразование к данным, обучить модель прогнозирования оттока и посчитать метрики качества и сохранить их: roc auc, precision/recall/f_score (для 3 последних - подобрать оптимальный порог с помощью precision_recall_curve, как это делалось на уроке)\n",
    "3. Повторить п.2, но используя уже не медиану, а max\n",
    "4. (опциональное, если очень хочется) Воспользовавшись полученными знаниями из п.1, повторить пункт 2, но уже взвешивая новости по tfidf (подсказка: нужно получить веса-коэффициенты для каждого документа. Не все документы одинаково информативны и несут какой-то положительный сигнал). Подсказка 2 - нужен именно idf, как вес.\n",
    "5. Сформировать на выходе единую таблицу, сравнивающую качество 3 разных метода получения эмбедингов пользователей: mean, median, max, idf_mean по метрикам roc_auc, precision, recall, f_score\n",
    "6. Сделать самостоятельные выводы и предположения о том, почему тот или ной способ оказался эффективнее остальных"
   ]
  },
  {
   "cell_type": "code",
   "execution_count": 1,
   "metadata": {},
   "outputs": [],
   "source": [
    "import pandas as pd"
   ]
  },
  {
   "cell_type": "markdown",
   "metadata": {},
   "source": [
    "Наши новости"
   ]
  },
  {
   "cell_type": "code",
   "execution_count": 2,
   "metadata": {},
   "outputs": [
    {
     "name": "stdout",
     "output_type": "stream",
     "text": [
      "(27000, 2)\n"
     ]
    },
    {
     "data": {
      "text/html": [
       "<div>\n",
       "<style scoped>\n",
       "    .dataframe tbody tr th:only-of-type {\n",
       "        vertical-align: middle;\n",
       "    }\n",
       "\n",
       "    .dataframe tbody tr th {\n",
       "        vertical-align: top;\n",
       "    }\n",
       "\n",
       "    .dataframe thead th {\n",
       "        text-align: right;\n",
       "    }\n",
       "</style>\n",
       "<table border=\"1\" class=\"dataframe\">\n",
       "  <thead>\n",
       "    <tr style=\"text-align: right;\">\n",
       "      <th></th>\n",
       "      <th>doc_id</th>\n",
       "      <th>title</th>\n",
       "    </tr>\n",
       "  </thead>\n",
       "  <tbody>\n",
       "    <tr>\n",
       "      <th>0</th>\n",
       "      <td>6</td>\n",
       "      <td>Заместитель председателяnправительства РФnСерг...</td>\n",
       "    </tr>\n",
       "    <tr>\n",
       "      <th>1</th>\n",
       "      <td>4896</td>\n",
       "      <td>Матч 1/16 финала Кубка России по футболу был п...</td>\n",
       "    </tr>\n",
       "    <tr>\n",
       "      <th>2</th>\n",
       "      <td>4897</td>\n",
       "      <td>Форвард «Авангарда» Томаш Заборский прокоммент...</td>\n",
       "    </tr>\n",
       "  </tbody>\n",
       "</table>\n",
       "</div>"
      ],
      "text/plain": [
       "   doc_id                                              title\n",
       "0       6  Заместитель председателяnправительства РФnСерг...\n",
       "1    4896  Матч 1/16 финала Кубка России по футболу был п...\n",
       "2    4897  Форвард «Авангарда» Томаш Заборский прокоммент..."
      ]
     },
     "execution_count": 2,
     "metadata": {},
     "output_type": "execute_result"
    }
   ],
   "source": [
    "news = pd.read_csv(\"articles.csv\")\n",
    "print(news.shape)\n",
    "news.head(3)"
   ]
  },
  {
   "cell_type": "code",
   "execution_count": null,
   "metadata": {},
   "outputs": [],
   "source": []
  },
  {
   "cell_type": "markdown",
   "metadata": {},
   "source": [
    "Загрузим пользователей и списки последних прочитанных новостей"
   ]
  },
  {
   "cell_type": "code",
   "execution_count": 3,
   "metadata": {},
   "outputs": [
    {
     "data": {
      "text/html": [
       "<div>\n",
       "<style scoped>\n",
       "    .dataframe tbody tr th:only-of-type {\n",
       "        vertical-align: middle;\n",
       "    }\n",
       "\n",
       "    .dataframe tbody tr th {\n",
       "        vertical-align: top;\n",
       "    }\n",
       "\n",
       "    .dataframe thead th {\n",
       "        text-align: right;\n",
       "    }\n",
       "</style>\n",
       "<table border=\"1\" class=\"dataframe\">\n",
       "  <thead>\n",
       "    <tr style=\"text-align: right;\">\n",
       "      <th></th>\n",
       "      <th>uid</th>\n",
       "      <th>articles</th>\n",
       "    </tr>\n",
       "  </thead>\n",
       "  <tbody>\n",
       "    <tr>\n",
       "      <th>0</th>\n",
       "      <td>u105138</td>\n",
       "      <td>[293672, 293328, 293001, 293622, 293126, 1852]</td>\n",
       "    </tr>\n",
       "    <tr>\n",
       "      <th>1</th>\n",
       "      <td>u108690</td>\n",
       "      <td>[3405, 1739, 2972, 1158, 1599, 322665]</td>\n",
       "    </tr>\n",
       "    <tr>\n",
       "      <th>2</th>\n",
       "      <td>u108339</td>\n",
       "      <td>[1845, 2009, 2356, 1424, 2939, 323389]</td>\n",
       "    </tr>\n",
       "  </tbody>\n",
       "</table>\n",
       "</div>"
      ],
      "text/plain": [
       "       uid                                        articles\n",
       "0  u105138  [293672, 293328, 293001, 293622, 293126, 1852]\n",
       "1  u108690          [3405, 1739, 2972, 1158, 1599, 322665]\n",
       "2  u108339          [1845, 2009, 2356, 1424, 2939, 323389]"
      ]
     },
     "execution_count": 3,
     "metadata": {},
     "output_type": "execute_result"
    }
   ],
   "source": [
    "users = pd.read_csv(\"users_articles.csv\")\n",
    "users.head(3)"
   ]
  },
  {
   "cell_type": "markdown",
   "metadata": {},
   "source": [
    "Итак, нам нужно получить векторные представления пользователей на основе прочитанным ими новостей и самих новостей"
   ]
  },
  {
   "cell_type": "markdown",
   "metadata": {},
   "source": [
    "### 1. Получаем векторные представления новостей"
   ]
  },
  {
   "cell_type": "code",
   "execution_count": 4,
   "metadata": {},
   "outputs": [],
   "source": [
    "#from gensim.test.utils import common_texts\n",
    "from gensim.corpora.dictionary import Dictionary"
   ]
  },
  {
   "cell_type": "code",
   "execution_count": 5,
   "metadata": {},
   "outputs": [],
   "source": [
    "#предобработка текстов\n",
    "import re\n",
    "import numpy as np\n",
    "from nltk.corpus import stopwords # Модуль для загрузки стоп-слов\n",
    "#from nltk.tokenize import word_tokenize\n",
    "\n",
    "from razdel import tokenize # https://github.com/natasha/razdel Токенизация текста\n",
    "#!pip install razdel\n",
    "\n",
    "import pymorphy2  # pip install pymorphy2 Модуль для получения нормальныой формы слова"
   ]
  },
  {
   "cell_type": "code",
   "execution_count": 6,
   "metadata": {},
   "outputs": [
    {
     "name": "stderr",
     "output_type": "stream",
     "text": [
      "[nltk_data] Downloading package stopwords to\n",
      "[nltk_data]     C:\\Users\\Илья\\AppData\\Roaming\\nltk_data...\n",
      "[nltk_data]   Package stopwords is already up-to-date!\n"
     ]
    },
    {
     "data": {
      "text/plain": [
       "True"
      ]
     },
     "execution_count": 6,
     "metadata": {},
     "output_type": "execute_result"
    }
   ],
   "source": [
    "import nltk\n",
    "nltk.download('stopwords')"
   ]
  },
  {
   "cell_type": "code",
   "execution_count": 7,
   "metadata": {},
   "outputs": [],
   "source": [
    "stopword_ru = stopwords.words('russian')\n",
    "len(stopword_ru)\n",
    "\n",
    "morph = pymorphy2.MorphAnalyzer()"
   ]
  },
  {
   "cell_type": "code",
   "execution_count": 8,
   "metadata": {},
   "outputs": [
    {
     "data": {
      "text/plain": [
       "776"
      ]
     },
     "execution_count": 8,
     "metadata": {},
     "output_type": "execute_result"
    }
   ],
   "source": [
    "with open('stopwords.txt') as f:\n",
    "    additional_stopwords = [w.strip() for w in f.readlines() if w]\n",
    "stopword_ru += additional_stopwords\n",
    "len(stopword_ru)"
   ]
  },
  {
   "cell_type": "code",
   "execution_count": 9,
   "metadata": {},
   "outputs": [],
   "source": [
    "def clean_text(text):\n",
    "    '''\n",
    "    очистка текста\n",
    "    \n",
    "    на выходе очищеный текст\n",
    "    \n",
    "    '''\n",
    "    if not isinstance(text, str):\n",
    "        text = str(text)\n",
    "    \n",
    "    text = text.lower()\n",
    "    text = text.strip('\\n').strip('\\r').strip('\\t')\n",
    "    text = re.sub(\"-\\s\\r\\n\\|-\\s\\r\\n|\\r\\n\", '', str(text))\n",
    "\n",
    "    text = re.sub(\"[0-9]|[-—.,:;_%©«»?*!@#№$^•·&()]|[+=]|[[]|[]]|[/]|\", '', text)\n",
    "    text = re.sub(r\"\\r\\n\\t|\\n|\\\\s|\\r\\t|\\\\n\", ' ', text)\n",
    "    text = re.sub(r'[\\xad]|[\\s+]', ' ', text.strip())\n",
    "    \n",
    "    #tokens = list(tokenize(text))\n",
    "    #words = [_.text for _ in tokens]\n",
    "    #words = [w for w in words if w not in stopword_ru]\n",
    "    \n",
    "    #return \" \".join(words)\n",
    "    return text\n",
    "\n",
    "cache = {}\n",
    "\n",
    "def lemmatization(text):\n",
    "    '''\n",
    "    лемматизация\n",
    "        [0] если зашел тип не `str` делаем его `str`\n",
    "        [1] токенизация предложения через razdel\n",
    "        [2] проверка есть ли в начале слова '-'\n",
    "        [3] проверка токена с одного символа\n",
    "        [4] проверка есть ли данное слово в кэше\n",
    "        [5] лемматизация слова\n",
    "        [6] проверка на стоп-слова\n",
    "\n",
    "    на выходе лист отлемматизированых токенов\n",
    "    '''\n",
    "\n",
    "    # [0]\n",
    "    if not isinstance(text, str):\n",
    "        text = str(text)\n",
    "    \n",
    "    # [1]\n",
    "    tokens = list(tokenize(text))\n",
    "    words = [_.text for _ in tokens]\n",
    "\n",
    "    words_lem = []\n",
    "    for w in words:\n",
    "        if w[0] == '-': # [2]\n",
    "            w = w[1:]\n",
    "        if len(w)>1: # [3]\n",
    "            if w in cache: # [4]\n",
    "                words_lem.append(cache[w])\n",
    "            else: # [5]\n",
    "                temp_cach = cache[w] = morph.parse(w)[0].normal_form\n",
    "                words_lem.append(temp_cach)\n",
    "    \n",
    "    words_lem_without_stopwords=[i for i in words_lem if not i in stopword_ru] # [6]\n",
    "    \n",
    "    return words_lem_without_stopwords"
   ]
  },
  {
   "cell_type": "code",
   "execution_count": 10,
   "metadata": {
    "scrolled": true
   },
   "outputs": [
    {
     "name": "stderr",
     "output_type": "stream",
     "text": [
      "<ipython-input-9-7ee348d9b386>:15: FutureWarning: Possible nested set at position 39\n",
      "  text = re.sub(\"[0-9]|[-—.,:;_%©«»?*!@#№$^•·&()]|[+=]|[[]|[]]|[/]|\", '', text)\n"
     ]
    },
    {
     "name": "stdout",
     "output_type": "stream",
     "text": [
      "Wall time: 58.4 s\n"
     ]
    }
   ],
   "source": [
    "%%time\n",
    "#Запускаем очистку текста. Будет долго...\n",
    "news['title'] = news['title'].apply(lambda x: clean_text(x), 1)"
   ]
  },
  {
   "cell_type": "code",
   "execution_count": 11,
   "metadata": {},
   "outputs": [
    {
     "name": "stdout",
     "output_type": "stream",
     "text": [
      "Wall time: 9min 14s\n"
     ]
    }
   ],
   "source": [
    "%%time\n",
    "#Запускаем лемматизацию текста. Будет очень долго...\n",
    "news['title'] = news['title'].apply(lambda x: lemmatization(x), 1)"
   ]
  },
  {
   "cell_type": "markdown",
   "metadata": {},
   "source": [
    "А теперь в 3 строчки обучим нашу модель"
   ]
  },
  {
   "cell_type": "code",
   "execution_count": 12,
   "metadata": {},
   "outputs": [
    {
     "data": {
      "text/plain": [
       "0        [заместитель, председатель, правительство, рф,...\n",
       "1        [матч, финал, кубок, россия, футбол, приостано...\n",
       "2        [форвард, авангард, томаш, заборский, прокомме...\n",
       "3        [главный, тренер, кубань, юрий, красножанин, п...\n",
       "4        [решение, попечительский, совет, владивостокск...\n",
       "                               ...                        \n",
       "26995    [учёный, токийский, университет, морской, наук...\n",
       "26996    [глава, кафедра, отечественный, история, xx, в...\n",
       "26997    [американский, учёный, уточнить, возраст, расп...\n",
       "26998    [последний, год, тропический, углеродный, цикл...\n",
       "26999    [жить, примерно, тыс, год, назад, территория, ...\n",
       "Name: title, Length: 27000, dtype: object"
      ]
     },
     "execution_count": 12,
     "metadata": {},
     "output_type": "execute_result"
    }
   ],
   "source": [
    "news['title']"
   ]
  },
  {
   "cell_type": "code",
   "execution_count": 13,
   "metadata": {},
   "outputs": [],
   "source": [
    "#сформируем список наших текстов, разбив еще и на пробелы\n",
    "texts = [t for t in news['title'].values]\n",
    "\n",
    "# Create a corpus from a list of texts\n",
    "common_dictionary = Dictionary(texts)\n",
    "common_corpus = [common_dictionary.doc2bow(text) for text in texts]"
   ]
  },
  {
   "cell_type": "markdown",
   "metadata": {},
   "source": [
    "Запускаем обучение"
   ]
  },
  {
   "cell_type": "code",
   "execution_count": 14,
   "metadata": {},
   "outputs": [],
   "source": [
    "from gensim.models import LdaModel"
   ]
  },
  {
   "cell_type": "code",
   "execution_count": 15,
   "metadata": {},
   "outputs": [
    {
     "name": "stdout",
     "output_type": "stream",
     "text": [
      "Wall time: 2min 6s\n"
     ]
    }
   ],
   "source": [
    "%%time\n",
    "from gensim.models import LdaModel\n",
    "# Train the model on the corpus.\n",
    "lda = LdaModel(common_corpus, num_topics=25, id2word=common_dictionary)#, passes=10)"
   ]
  },
  {
   "cell_type": "markdown",
   "metadata": {},
   "source": [
    "Обучили модель. Теперь 2 вопроса:\n",
    "\n",
    "1. как выглядят наши темы\n",
    "2. как получить для документа вектор значений (вероятности принадлежности каждой теме)"
   ]
  },
  {
   "cell_type": "code",
   "execution_count": 16,
   "metadata": {},
   "outputs": [
    {
     "name": "stdout",
     "output_type": "stream",
     "text": [
      "['форвард', 'авангард', 'томаш', 'заборский', 'прокомментировать', 'игра', 'свой', 'команда', 'матч', 'чемпионат', 'кхл', 'против', 'атланта', 'nnnn', 'провести', 'плохой', 'матч', 'нижний', 'новгород', 'против', 'торпедо', 'настраиваться', 'первый', 'минута', 'включиться', 'работа', 'сказать', 'заборский', 'получиться', 'забросить', 'быстрый', 'гол', 'задать', 'хороший', 'темп', 'поединок', 'мочь', 'играть', 'ещё', 'хороший', 'сторона', 'пять', 'очко', 'выезд', 'девять', 'это', 'хороший']\n"
     ]
    },
    {
     "data": {
      "text/plain": [
       "[(6, 0.041824773),\n",
       " (7, 0.12151619),\n",
       " (13, 0.5464523),\n",
       " (16, 0.054931432),\n",
       " (19, 0.0372732),\n",
       " (23, 0.18068866)]"
      ]
     },
     "execution_count": 16,
     "metadata": {},
     "output_type": "execute_result"
    }
   ],
   "source": [
    "# Create a new corpus, made of previously unseen documents.\n",
    "other_texts = [t for t in news['title'].iloc[:3]]\n",
    "other_corpus = [common_dictionary.doc2bow(text) for text in other_texts]\n",
    "\n",
    "unseen_doc = other_corpus[2]\n",
    "print(other_texts[2])\n",
    "lda[unseen_doc] "
   ]
  },
  {
   "cell_type": "code",
   "execution_count": 17,
   "metadata": {},
   "outputs": [
    {
     "name": "stdout",
     "output_type": "stream",
     "text": [
      "topic_0: это год который российский россия военный свой\n",
      "topic_1: путин россия президент владимир nn фестиваль агентство\n",
      "topic_2: год млрд рубль цена рост это объём\n",
      "topic_3: лауреат ресторан награда жюри медаль церемония удостоить\n",
      "topic_4: операция год обнаружить проверка объект который врач\n",
      "topic_5: человек женщина тело мужчина произойти результат который\n",
      "topic_6: напомнить запуск ракета испытание флот корея экипаж\n",
      "topic_7: украина украинский киев белоруссия это рейс больной\n",
      "topic_8: фонд гражданин китай обращение японский китайский япония\n",
      "topic_9: депутат высота федеральный годовой государственный служба собрание\n",
      "topic_10: земля пациент nn вода город остров лечение\n",
      "topic_11: погибнуть гражданин рак температура оборудование фронт фотография\n",
      "topic_12: газ год дело который сотрудник nn станция\n",
      "topic_13: который сша nn год первый новый группа\n",
      "topic_14: тыс млн год составить выплата размер зарплата\n",
      "topic_15: район мозг пострадать авария граница автомобиль образоваться\n",
      "topic_16: препарат страдать вицепремьер знаменитый белый вирус мышь\n",
      "topic_17: банк санкция ракета закон российский который компания\n",
      "topic_18: год сша американский штат который турция это\n",
      "topic_19: год исследование это который время ребёнок компания\n",
      "topic_20: километр экипаж лекарство автобус взрыв альянс кость\n",
      "topic_21: это год россия который страна правительство развитие\n",
      "topic_22: космос железный журнал компенсировать предсказать русь корь\n",
      "topic_23: это который мочь всё человек весь свой\n",
      "topic_24: суд статья поверхность взрыв дело nn египет\n"
     ]
    }
   ],
   "source": [
    "x=lda.show_topics(num_topics=25, num_words=7,formatted=False)\n",
    "topics_words = [(tp[0], [wd[0] for wd in tp[1]]) for tp in x]\n",
    "\n",
    "#Below Code Prints Only Words \n",
    "for topic,words in topics_words:\n",
    "    print(\"topic_{}: \".format(topic)+\" \".join(words))"
   ]
  },
  {
   "cell_type": "markdown",
   "metadata": {},
   "source": [
    "Очень неплохо - большинство тем вполне можно описать о чем они"
   ]
  },
  {
   "cell_type": "markdown",
   "metadata": {},
   "source": [
    "Давайте напишем функцию, которая будет нам возвращать векторное представление новости"
   ]
  },
  {
   "cell_type": "code",
   "execution_count": 18,
   "metadata": {},
   "outputs": [],
   "source": [
    "#text = news['title'].iloc[0]\n",
    "\n",
    "def get_lda_vector(text):\n",
    "    unseen_doc = common_dictionary.doc2bow(text)\n",
    "    lda_tuple = lda[unseen_doc]\n",
    "    not_null_topics = dict(zip([i[0] for i in lda_tuple], [i[1] for i in lda_tuple]))\n",
    "\n",
    "    output_vector = []\n",
    "    for i in range(25):\n",
    "        if i not in not_null_topics:\n",
    "            output_vector.append(0)\n",
    "        else:\n",
    "            output_vector.append(not_null_topics[i])\n",
    "    return np.array(output_vector)"
   ]
  },
  {
   "cell_type": "code",
   "execution_count": 19,
   "metadata": {},
   "outputs": [
    {
     "data": {
      "text/html": [
       "<div>\n",
       "<style scoped>\n",
       "    .dataframe tbody tr th:only-of-type {\n",
       "        vertical-align: middle;\n",
       "    }\n",
       "\n",
       "    .dataframe tbody tr th {\n",
       "        vertical-align: top;\n",
       "    }\n",
       "\n",
       "    .dataframe thead th {\n",
       "        text-align: right;\n",
       "    }\n",
       "</style>\n",
       "<table border=\"1\" class=\"dataframe\">\n",
       "  <thead>\n",
       "    <tr style=\"text-align: right;\">\n",
       "      <th></th>\n",
       "      <th>doc_id</th>\n",
       "      <th>topic_0</th>\n",
       "      <th>topic_1</th>\n",
       "      <th>topic_2</th>\n",
       "      <th>topic_3</th>\n",
       "      <th>topic_4</th>\n",
       "      <th>topic_5</th>\n",
       "      <th>topic_6</th>\n",
       "      <th>topic_7</th>\n",
       "      <th>topic_8</th>\n",
       "      <th>...</th>\n",
       "      <th>topic_15</th>\n",
       "      <th>topic_16</th>\n",
       "      <th>topic_17</th>\n",
       "      <th>topic_18</th>\n",
       "      <th>topic_19</th>\n",
       "      <th>topic_20</th>\n",
       "      <th>topic_21</th>\n",
       "      <th>topic_22</th>\n",
       "      <th>topic_23</th>\n",
       "      <th>topic_24</th>\n",
       "    </tr>\n",
       "  </thead>\n",
       "  <tbody>\n",
       "    <tr>\n",
       "      <th>0</th>\n",
       "      <td>6</td>\n",
       "      <td>0.000000</td>\n",
       "      <td>0.0</td>\n",
       "      <td>0.0</td>\n",
       "      <td>0.0</td>\n",
       "      <td>0.0</td>\n",
       "      <td>0.0</td>\n",
       "      <td>0.000000</td>\n",
       "      <td>0.000000</td>\n",
       "      <td>0.0</td>\n",
       "      <td>...</td>\n",
       "      <td>0.0</td>\n",
       "      <td>0.000000</td>\n",
       "      <td>0.0</td>\n",
       "      <td>0.082664</td>\n",
       "      <td>0.000000</td>\n",
       "      <td>0.000000</td>\n",
       "      <td>0.312707</td>\n",
       "      <td>0.0</td>\n",
       "      <td>0.000000</td>\n",
       "      <td>0.000000</td>\n",
       "    </tr>\n",
       "    <tr>\n",
       "      <th>1</th>\n",
       "      <td>4896</td>\n",
       "      <td>0.000000</td>\n",
       "      <td>0.0</td>\n",
       "      <td>0.0</td>\n",
       "      <td>0.0</td>\n",
       "      <td>0.0</td>\n",
       "      <td>0.0</td>\n",
       "      <td>0.152386</td>\n",
       "      <td>0.000000</td>\n",
       "      <td>0.0</td>\n",
       "      <td>...</td>\n",
       "      <td>0.0</td>\n",
       "      <td>0.000000</td>\n",
       "      <td>0.0</td>\n",
       "      <td>0.000000</td>\n",
       "      <td>0.000000</td>\n",
       "      <td>0.175318</td>\n",
       "      <td>0.000000</td>\n",
       "      <td>0.0</td>\n",
       "      <td>0.000000</td>\n",
       "      <td>0.568232</td>\n",
       "    </tr>\n",
       "    <tr>\n",
       "      <th>2</th>\n",
       "      <td>4897</td>\n",
       "      <td>0.000000</td>\n",
       "      <td>0.0</td>\n",
       "      <td>0.0</td>\n",
       "      <td>0.0</td>\n",
       "      <td>0.0</td>\n",
       "      <td>0.0</td>\n",
       "      <td>0.040560</td>\n",
       "      <td>0.121777</td>\n",
       "      <td>0.0</td>\n",
       "      <td>...</td>\n",
       "      <td>0.0</td>\n",
       "      <td>0.054987</td>\n",
       "      <td>0.0</td>\n",
       "      <td>0.000000</td>\n",
       "      <td>0.037367</td>\n",
       "      <td>0.000000</td>\n",
       "      <td>0.000000</td>\n",
       "      <td>0.0</td>\n",
       "      <td>0.178681</td>\n",
       "      <td>0.000000</td>\n",
       "    </tr>\n",
       "    <tr>\n",
       "      <th>3</th>\n",
       "      <td>4898</td>\n",
       "      <td>0.000000</td>\n",
       "      <td>0.0</td>\n",
       "      <td>0.0</td>\n",
       "      <td>0.0</td>\n",
       "      <td>0.0</td>\n",
       "      <td>0.0</td>\n",
       "      <td>0.000000</td>\n",
       "      <td>0.000000</td>\n",
       "      <td>0.0</td>\n",
       "      <td>...</td>\n",
       "      <td>0.0</td>\n",
       "      <td>0.000000</td>\n",
       "      <td>0.0</td>\n",
       "      <td>0.000000</td>\n",
       "      <td>0.044731</td>\n",
       "      <td>0.000000</td>\n",
       "      <td>0.000000</td>\n",
       "      <td>0.0</td>\n",
       "      <td>0.585577</td>\n",
       "      <td>0.000000</td>\n",
       "    </tr>\n",
       "    <tr>\n",
       "      <th>4</th>\n",
       "      <td>4899</td>\n",
       "      <td>0.762792</td>\n",
       "      <td>0.0</td>\n",
       "      <td>0.0</td>\n",
       "      <td>0.0</td>\n",
       "      <td>0.0</td>\n",
       "      <td>0.0</td>\n",
       "      <td>0.000000</td>\n",
       "      <td>0.000000</td>\n",
       "      <td>0.0</td>\n",
       "      <td>...</td>\n",
       "      <td>0.0</td>\n",
       "      <td>0.000000</td>\n",
       "      <td>0.0</td>\n",
       "      <td>0.000000</td>\n",
       "      <td>0.000000</td>\n",
       "      <td>0.000000</td>\n",
       "      <td>0.000000</td>\n",
       "      <td>0.0</td>\n",
       "      <td>0.000000</td>\n",
       "      <td>0.000000</td>\n",
       "    </tr>\n",
       "  </tbody>\n",
       "</table>\n",
       "<p>5 rows × 26 columns</p>\n",
       "</div>"
      ],
      "text/plain": [
       "   doc_id   topic_0  topic_1  topic_2  topic_3  topic_4  topic_5   topic_6  \\\n",
       "0       6  0.000000      0.0      0.0      0.0      0.0      0.0  0.000000   \n",
       "1    4896  0.000000      0.0      0.0      0.0      0.0      0.0  0.152386   \n",
       "2    4897  0.000000      0.0      0.0      0.0      0.0      0.0  0.040560   \n",
       "3    4898  0.000000      0.0      0.0      0.0      0.0      0.0  0.000000   \n",
       "4    4899  0.762792      0.0      0.0      0.0      0.0      0.0  0.000000   \n",
       "\n",
       "    topic_7  topic_8  ...  topic_15  topic_16  topic_17  topic_18  topic_19  \\\n",
       "0  0.000000      0.0  ...       0.0  0.000000       0.0  0.082664  0.000000   \n",
       "1  0.000000      0.0  ...       0.0  0.000000       0.0  0.000000  0.000000   \n",
       "2  0.121777      0.0  ...       0.0  0.054987       0.0  0.000000  0.037367   \n",
       "3  0.000000      0.0  ...       0.0  0.000000       0.0  0.000000  0.044731   \n",
       "4  0.000000      0.0  ...       0.0  0.000000       0.0  0.000000  0.000000   \n",
       "\n",
       "   topic_20  topic_21  topic_22  topic_23  topic_24  \n",
       "0  0.000000  0.312707       0.0  0.000000  0.000000  \n",
       "1  0.175318  0.000000       0.0  0.000000  0.568232  \n",
       "2  0.000000  0.000000       0.0  0.178681  0.000000  \n",
       "3  0.000000  0.000000       0.0  0.585577  0.000000  \n",
       "4  0.000000  0.000000       0.0  0.000000  0.000000  \n",
       "\n",
       "[5 rows x 26 columns]"
      ]
     },
     "execution_count": 19,
     "metadata": {},
     "output_type": "execute_result"
    }
   ],
   "source": [
    "topic_matrix = pd.DataFrame([get_lda_vector(text) for text in news['title'].values])\n",
    "topic_matrix.columns = ['topic_{}'.format(i) for i in range(25)]\n",
    "topic_matrix['doc_id'] = news['doc_id'].values\n",
    "topic_matrix = topic_matrix[['doc_id']+['topic_{}'.format(i) for i in range(25)]]\n",
    "topic_matrix.head(5)"
   ]
  },
  {
   "cell_type": "markdown",
   "metadata": {},
   "source": [
    "Прекрасно, мы получили вектора наших новостей! И даже умеем интерпретировать получившиеся темы.\n",
    "\n",
    "Можно двигаться далее"
   ]
  },
  {
   "cell_type": "markdown",
   "metadata": {},
   "source": [
    "### Следующий шаг - векторные представления пользователей"
   ]
  },
  {
   "cell_type": "code",
   "execution_count": 20,
   "metadata": {
    "scrolled": true
   },
   "outputs": [
    {
     "data": {
      "text/html": [
       "<div>\n",
       "<style scoped>\n",
       "    .dataframe tbody tr th:only-of-type {\n",
       "        vertical-align: middle;\n",
       "    }\n",
       "\n",
       "    .dataframe tbody tr th {\n",
       "        vertical-align: top;\n",
       "    }\n",
       "\n",
       "    .dataframe thead th {\n",
       "        text-align: right;\n",
       "    }\n",
       "</style>\n",
       "<table border=\"1\" class=\"dataframe\">\n",
       "  <thead>\n",
       "    <tr style=\"text-align: right;\">\n",
       "      <th></th>\n",
       "      <th>uid</th>\n",
       "      <th>articles</th>\n",
       "    </tr>\n",
       "  </thead>\n",
       "  <tbody>\n",
       "    <tr>\n",
       "      <th>0</th>\n",
       "      <td>u105138</td>\n",
       "      <td>[293672, 293328, 293001, 293622, 293126, 1852]</td>\n",
       "    </tr>\n",
       "    <tr>\n",
       "      <th>1</th>\n",
       "      <td>u108690</td>\n",
       "      <td>[3405, 1739, 2972, 1158, 1599, 322665]</td>\n",
       "    </tr>\n",
       "    <tr>\n",
       "      <th>2</th>\n",
       "      <td>u108339</td>\n",
       "      <td>[1845, 2009, 2356, 1424, 2939, 323389]</td>\n",
       "    </tr>\n",
       "  </tbody>\n",
       "</table>\n",
       "</div>"
      ],
      "text/plain": [
       "       uid                                        articles\n",
       "0  u105138  [293672, 293328, 293001, 293622, 293126, 1852]\n",
       "1  u108690          [3405, 1739, 2972, 1158, 1599, 322665]\n",
       "2  u108339          [1845, 2009, 2356, 1424, 2939, 323389]"
      ]
     },
     "execution_count": 20,
     "metadata": {},
     "output_type": "execute_result"
    }
   ],
   "source": [
    "users.head(3)"
   ]
  },
  {
   "cell_type": "code",
   "execution_count": 21,
   "metadata": {},
   "outputs": [],
   "source": [
    "doc_dict = dict(zip(topic_matrix['doc_id'].values, topic_matrix[['topic_{}'.format(i) for i in range(25)]].values))"
   ]
  },
  {
   "cell_type": "code",
   "execution_count": 22,
   "metadata": {},
   "outputs": [
    {
     "data": {
      "text/plain": [
       "array([0.07263608, 0.10169552, 0.        , 0.        , 0.        ,\n",
       "       0.08683147, 0.        , 0.10173913, 0.        , 0.        ,\n",
       "       0.        , 0.        , 0.        , 0.09737952, 0.        ,\n",
       "       0.        , 0.07731147, 0.01740242, 0.15324   , 0.        ,\n",
       "       0.        , 0.18913436, 0.        , 0.07498258, 0.01915157])"
      ]
     },
     "execution_count": 22,
     "metadata": {},
     "output_type": "execute_result"
    }
   ],
   "source": [
    "doc_dict[293622]"
   ]
  },
  {
   "cell_type": "markdown",
   "metadata": {},
   "source": [
    "## Задание 2, 3"
   ]
  },
  {
   "cell_type": "code",
   "execution_count": 23,
   "metadata": {},
   "outputs": [],
   "source": [
    "def get_user_embedding(user_articles_list, method='mean'):\n",
    "    user_articles_list = eval(user_articles_list)\n",
    "    user_vector = np.array([doc_dict[doc_id] for doc_id in user_articles_list])\n",
    "    if method == 'mean':\n",
    "        user_vector = np.mean(user_vector, 0)\n",
    "    elif method == 'median':\n",
    "        user_vector = np.median(user_vector, 0)\n",
    "    else:\n",
    "        user_vector = np.max(user_vector, 0)\n",
    "    return user_vector"
   ]
  },
  {
   "cell_type": "markdown",
   "metadata": {},
   "source": [
    "Теперь получим эмбединги для всех пользователей и проверим их качество на конкретной downstream-задаче"
   ]
  },
  {
   "cell_type": "code",
   "execution_count": 24,
   "metadata": {},
   "outputs": [
    {
     "data": {
      "text/html": [
       "<div>\n",
       "<style scoped>\n",
       "    .dataframe tbody tr th:only-of-type {\n",
       "        vertical-align: middle;\n",
       "    }\n",
       "\n",
       "    .dataframe tbody tr th {\n",
       "        vertical-align: top;\n",
       "    }\n",
       "\n",
       "    .dataframe thead th {\n",
       "        text-align: right;\n",
       "    }\n",
       "</style>\n",
       "<table border=\"1\" class=\"dataframe\">\n",
       "  <thead>\n",
       "    <tr style=\"text-align: right;\">\n",
       "      <th></th>\n",
       "      <th>uid</th>\n",
       "      <th>topic_0</th>\n",
       "      <th>topic_1</th>\n",
       "      <th>topic_2</th>\n",
       "      <th>topic_3</th>\n",
       "      <th>topic_4</th>\n",
       "      <th>topic_5</th>\n",
       "      <th>topic_6</th>\n",
       "      <th>topic_7</th>\n",
       "      <th>topic_8</th>\n",
       "      <th>...</th>\n",
       "      <th>topic_15</th>\n",
       "      <th>topic_16</th>\n",
       "      <th>topic_17</th>\n",
       "      <th>topic_18</th>\n",
       "      <th>topic_19</th>\n",
       "      <th>topic_20</th>\n",
       "      <th>topic_21</th>\n",
       "      <th>topic_22</th>\n",
       "      <th>topic_23</th>\n",
       "      <th>topic_24</th>\n",
       "    </tr>\n",
       "  </thead>\n",
       "  <tbody>\n",
       "    <tr>\n",
       "      <th>0</th>\n",
       "      <td>u105138</td>\n",
       "      <td>0.096049</td>\n",
       "      <td>0.024047</td>\n",
       "      <td>0.014122</td>\n",
       "      <td>0.000000</td>\n",
       "      <td>0.003168</td>\n",
       "      <td>0.046871</td>\n",
       "      <td>0.0</td>\n",
       "      <td>0.096490</td>\n",
       "      <td>0.000000</td>\n",
       "      <td>...</td>\n",
       "      <td>0.004729</td>\n",
       "      <td>0.028735</td>\n",
       "      <td>0.002900</td>\n",
       "      <td>0.066201</td>\n",
       "      <td>0.187086</td>\n",
       "      <td>0.006857</td>\n",
       "      <td>0.089384</td>\n",
       "      <td>0.0</td>\n",
       "      <td>0.069510</td>\n",
       "      <td>0.042048</td>\n",
       "    </tr>\n",
       "    <tr>\n",
       "      <th>1</th>\n",
       "      <td>u108690</td>\n",
       "      <td>0.063753</td>\n",
       "      <td>0.015643</td>\n",
       "      <td>0.023297</td>\n",
       "      <td>0.000000</td>\n",
       "      <td>0.020902</td>\n",
       "      <td>0.036537</td>\n",
       "      <td>0.0</td>\n",
       "      <td>0.089096</td>\n",
       "      <td>0.019247</td>\n",
       "      <td>...</td>\n",
       "      <td>0.005672</td>\n",
       "      <td>0.000000</td>\n",
       "      <td>0.011247</td>\n",
       "      <td>0.020623</td>\n",
       "      <td>0.078423</td>\n",
       "      <td>0.000000</td>\n",
       "      <td>0.229695</td>\n",
       "      <td>0.0</td>\n",
       "      <td>0.180235</td>\n",
       "      <td>0.022701</td>\n",
       "    </tr>\n",
       "    <tr>\n",
       "      <th>2</th>\n",
       "      <td>u108339</td>\n",
       "      <td>0.114697</td>\n",
       "      <td>0.008258</td>\n",
       "      <td>0.052206</td>\n",
       "      <td>0.004762</td>\n",
       "      <td>0.049720</td>\n",
       "      <td>0.079993</td>\n",
       "      <td>0.0</td>\n",
       "      <td>0.000000</td>\n",
       "      <td>0.007349</td>\n",
       "      <td>...</td>\n",
       "      <td>0.015595</td>\n",
       "      <td>0.002278</td>\n",
       "      <td>0.020920</td>\n",
       "      <td>0.019241</td>\n",
       "      <td>0.044628</td>\n",
       "      <td>0.002401</td>\n",
       "      <td>0.142947</td>\n",
       "      <td>0.0</td>\n",
       "      <td>0.084704</td>\n",
       "      <td>0.076403</td>\n",
       "    </tr>\n",
       "  </tbody>\n",
       "</table>\n",
       "<p>3 rows × 26 columns</p>\n",
       "</div>"
      ],
      "text/plain": [
       "       uid   topic_0   topic_1   topic_2   topic_3   topic_4   topic_5  \\\n",
       "0  u105138  0.096049  0.024047  0.014122  0.000000  0.003168  0.046871   \n",
       "1  u108690  0.063753  0.015643  0.023297  0.000000  0.020902  0.036537   \n",
       "2  u108339  0.114697  0.008258  0.052206  0.004762  0.049720  0.079993   \n",
       "\n",
       "   topic_6   topic_7   topic_8  ...  topic_15  topic_16  topic_17  topic_18  \\\n",
       "0      0.0  0.096490  0.000000  ...  0.004729  0.028735  0.002900  0.066201   \n",
       "1      0.0  0.089096  0.019247  ...  0.005672  0.000000  0.011247  0.020623   \n",
       "2      0.0  0.000000  0.007349  ...  0.015595  0.002278  0.020920  0.019241   \n",
       "\n",
       "   topic_19  topic_20  topic_21  topic_22  topic_23  topic_24  \n",
       "0  0.187086  0.006857  0.089384       0.0  0.069510  0.042048  \n",
       "1  0.078423  0.000000  0.229695       0.0  0.180235  0.022701  \n",
       "2  0.044628  0.002401  0.142947       0.0  0.084704  0.076403  \n",
       "\n",
       "[3 rows x 26 columns]"
      ]
     },
     "execution_count": 24,
     "metadata": {},
     "output_type": "execute_result"
    }
   ],
   "source": [
    "user_embeddings_mean = pd.DataFrame([i for i in users['articles'].apply(lambda x: get_user_embedding(x, 'mean'), 1)])\n",
    "user_embeddings_mean.columns = ['topic_{}'.format(i) for i in range(25)]\n",
    "user_embeddings_mean['uid'] = users['uid'].values\n",
    "user_embeddings_mean = user_embeddings_mean[['uid']+['topic_{}'.format(i) for i in range(25)]]\n",
    "user_embeddings_mean.head(3)"
   ]
  },
  {
   "cell_type": "code",
   "execution_count": 25,
   "metadata": {},
   "outputs": [
    {
     "data": {
      "text/html": [
       "<div>\n",
       "<style scoped>\n",
       "    .dataframe tbody tr th:only-of-type {\n",
       "        vertical-align: middle;\n",
       "    }\n",
       "\n",
       "    .dataframe tbody tr th {\n",
       "        vertical-align: top;\n",
       "    }\n",
       "\n",
       "    .dataframe thead th {\n",
       "        text-align: right;\n",
       "    }\n",
       "</style>\n",
       "<table border=\"1\" class=\"dataframe\">\n",
       "  <thead>\n",
       "    <tr style=\"text-align: right;\">\n",
       "      <th></th>\n",
       "      <th>uid</th>\n",
       "      <th>topic_0</th>\n",
       "      <th>topic_1</th>\n",
       "      <th>topic_2</th>\n",
       "      <th>topic_3</th>\n",
       "      <th>topic_4</th>\n",
       "      <th>topic_5</th>\n",
       "      <th>topic_6</th>\n",
       "      <th>topic_7</th>\n",
       "      <th>topic_8</th>\n",
       "      <th>...</th>\n",
       "      <th>topic_15</th>\n",
       "      <th>topic_16</th>\n",
       "      <th>topic_17</th>\n",
       "      <th>topic_18</th>\n",
       "      <th>topic_19</th>\n",
       "      <th>topic_20</th>\n",
       "      <th>topic_21</th>\n",
       "      <th>topic_22</th>\n",
       "      <th>topic_23</th>\n",
       "      <th>topic_24</th>\n",
       "    </tr>\n",
       "  </thead>\n",
       "  <tbody>\n",
       "    <tr>\n",
       "      <th>0</th>\n",
       "      <td>u105138</td>\n",
       "      <td>0.101154</td>\n",
       "      <td>0.0</td>\n",
       "      <td>0.000000</td>\n",
       "      <td>0.0</td>\n",
       "      <td>0.000000</td>\n",
       "      <td>0.050220</td>\n",
       "      <td>0.0</td>\n",
       "      <td>0.086987</td>\n",
       "      <td>0.000000</td>\n",
       "      <td>...</td>\n",
       "      <td>0.000000</td>\n",
       "      <td>0.0</td>\n",
       "      <td>0.000000</td>\n",
       "      <td>0.000000</td>\n",
       "      <td>0.118022</td>\n",
       "      <td>0.0</td>\n",
       "      <td>0.015841</td>\n",
       "      <td>0.0</td>\n",
       "      <td>0.037491</td>\n",
       "      <td>0.009576</td>\n",
       "    </tr>\n",
       "    <tr>\n",
       "      <th>1</th>\n",
       "      <td>u108690</td>\n",
       "      <td>0.068119</td>\n",
       "      <td>0.0</td>\n",
       "      <td>0.009674</td>\n",
       "      <td>0.0</td>\n",
       "      <td>0.012214</td>\n",
       "      <td>0.009462</td>\n",
       "      <td>0.0</td>\n",
       "      <td>0.069015</td>\n",
       "      <td>0.000000</td>\n",
       "      <td>...</td>\n",
       "      <td>0.000000</td>\n",
       "      <td>0.0</td>\n",
       "      <td>0.005576</td>\n",
       "      <td>0.015466</td>\n",
       "      <td>0.066325</td>\n",
       "      <td>0.0</td>\n",
       "      <td>0.186745</td>\n",
       "      <td>0.0</td>\n",
       "      <td>0.155577</td>\n",
       "      <td>0.000000</td>\n",
       "    </tr>\n",
       "    <tr>\n",
       "      <th>2</th>\n",
       "      <td>u108339</td>\n",
       "      <td>0.071337</td>\n",
       "      <td>0.0</td>\n",
       "      <td>0.024075</td>\n",
       "      <td>0.0</td>\n",
       "      <td>0.040930</td>\n",
       "      <td>0.043530</td>\n",
       "      <td>0.0</td>\n",
       "      <td>0.000000</td>\n",
       "      <td>0.006427</td>\n",
       "      <td>...</td>\n",
       "      <td>0.008666</td>\n",
       "      <td>0.0</td>\n",
       "      <td>0.010856</td>\n",
       "      <td>0.000000</td>\n",
       "      <td>0.021237</td>\n",
       "      <td>0.0</td>\n",
       "      <td>0.133885</td>\n",
       "      <td>0.0</td>\n",
       "      <td>0.084889</td>\n",
       "      <td>0.081331</td>\n",
       "    </tr>\n",
       "  </tbody>\n",
       "</table>\n",
       "<p>3 rows × 26 columns</p>\n",
       "</div>"
      ],
      "text/plain": [
       "       uid   topic_0  topic_1   topic_2  topic_3   topic_4   topic_5  topic_6  \\\n",
       "0  u105138  0.101154      0.0  0.000000      0.0  0.000000  0.050220      0.0   \n",
       "1  u108690  0.068119      0.0  0.009674      0.0  0.012214  0.009462      0.0   \n",
       "2  u108339  0.071337      0.0  0.024075      0.0  0.040930  0.043530      0.0   \n",
       "\n",
       "    topic_7   topic_8  ...  topic_15  topic_16  topic_17  topic_18  topic_19  \\\n",
       "0  0.086987  0.000000  ...  0.000000       0.0  0.000000  0.000000  0.118022   \n",
       "1  0.069015  0.000000  ...  0.000000       0.0  0.005576  0.015466  0.066325   \n",
       "2  0.000000  0.006427  ...  0.008666       0.0  0.010856  0.000000  0.021237   \n",
       "\n",
       "   topic_20  topic_21  topic_22  topic_23  topic_24  \n",
       "0       0.0  0.015841       0.0  0.037491  0.009576  \n",
       "1       0.0  0.186745       0.0  0.155577  0.000000  \n",
       "2       0.0  0.133885       0.0  0.084889  0.081331  \n",
       "\n",
       "[3 rows x 26 columns]"
      ]
     },
     "execution_count": 25,
     "metadata": {},
     "output_type": "execute_result"
    }
   ],
   "source": [
    "user_embeddings_median = pd.DataFrame([i for i in users['articles'].apply(lambda x: get_user_embedding(x, 'median'), 1)])\n",
    "user_embeddings_median.columns = ['topic_{}'.format(i) for i in range(25)]\n",
    "user_embeddings_median['uid'] = users['uid'].values\n",
    "user_embeddings_median = user_embeddings_median[['uid']+['topic_{}'.format(i) for i in range(25)]]\n",
    "user_embeddings_median.head(3)"
   ]
  },
  {
   "cell_type": "code",
   "execution_count": 26,
   "metadata": {},
   "outputs": [
    {
     "data": {
      "text/html": [
       "<div>\n",
       "<style scoped>\n",
       "    .dataframe tbody tr th:only-of-type {\n",
       "        vertical-align: middle;\n",
       "    }\n",
       "\n",
       "    .dataframe tbody tr th {\n",
       "        vertical-align: top;\n",
       "    }\n",
       "\n",
       "    .dataframe thead th {\n",
       "        text-align: right;\n",
       "    }\n",
       "</style>\n",
       "<table border=\"1\" class=\"dataframe\">\n",
       "  <thead>\n",
       "    <tr style=\"text-align: right;\">\n",
       "      <th></th>\n",
       "      <th>uid</th>\n",
       "      <th>topic_0</th>\n",
       "      <th>topic_1</th>\n",
       "      <th>topic_2</th>\n",
       "      <th>topic_3</th>\n",
       "      <th>topic_4</th>\n",
       "      <th>topic_5</th>\n",
       "      <th>topic_6</th>\n",
       "      <th>topic_7</th>\n",
       "      <th>topic_8</th>\n",
       "      <th>...</th>\n",
       "      <th>topic_15</th>\n",
       "      <th>topic_16</th>\n",
       "      <th>topic_17</th>\n",
       "      <th>topic_18</th>\n",
       "      <th>topic_19</th>\n",
       "      <th>topic_20</th>\n",
       "      <th>topic_21</th>\n",
       "      <th>topic_22</th>\n",
       "      <th>topic_23</th>\n",
       "      <th>topic_24</th>\n",
       "    </tr>\n",
       "  </thead>\n",
       "  <tbody>\n",
       "    <tr>\n",
       "      <th>0</th>\n",
       "      <td>u105138</td>\n",
       "      <td>0.217540</td>\n",
       "      <td>0.101696</td>\n",
       "      <td>0.084730</td>\n",
       "      <td>0.000000</td>\n",
       "      <td>0.019010</td>\n",
       "      <td>0.093956</td>\n",
       "      <td>0.0</td>\n",
       "      <td>0.303224</td>\n",
       "      <td>0.000000</td>\n",
       "      <td>...</td>\n",
       "      <td>0.028374</td>\n",
       "      <td>0.095100</td>\n",
       "      <td>0.017402</td>\n",
       "      <td>0.243964</td>\n",
       "      <td>0.592047</td>\n",
       "      <td>0.041143</td>\n",
       "      <td>0.315491</td>\n",
       "      <td>0.0</td>\n",
       "      <td>0.241500</td>\n",
       "      <td>0.196722</td>\n",
       "    </tr>\n",
       "    <tr>\n",
       "      <th>1</th>\n",
       "      <td>u108690</td>\n",
       "      <td>0.121330</td>\n",
       "      <td>0.051822</td>\n",
       "      <td>0.094301</td>\n",
       "      <td>0.000000</td>\n",
       "      <td>0.069059</td>\n",
       "      <td>0.144860</td>\n",
       "      <td>0.0</td>\n",
       "      <td>0.210577</td>\n",
       "      <td>0.115484</td>\n",
       "      <td>...</td>\n",
       "      <td>0.034034</td>\n",
       "      <td>0.000000</td>\n",
       "      <td>0.037917</td>\n",
       "      <td>0.060741</td>\n",
       "      <td>0.203365</td>\n",
       "      <td>0.000000</td>\n",
       "      <td>0.579062</td>\n",
       "      <td>0.0</td>\n",
       "      <td>0.419233</td>\n",
       "      <td>0.136204</td>\n",
       "    </tr>\n",
       "    <tr>\n",
       "      <th>2</th>\n",
       "      <td>u108339</td>\n",
       "      <td>0.267844</td>\n",
       "      <td>0.049549</td>\n",
       "      <td>0.139105</td>\n",
       "      <td>0.028572</td>\n",
       "      <td>0.137017</td>\n",
       "      <td>0.239316</td>\n",
       "      <td>0.0</td>\n",
       "      <td>0.000000</td>\n",
       "      <td>0.017294</td>\n",
       "      <td>...</td>\n",
       "      <td>0.056637</td>\n",
       "      <td>0.013669</td>\n",
       "      <td>0.079249</td>\n",
       "      <td>0.064328</td>\n",
       "      <td>0.160415</td>\n",
       "      <td>0.014407</td>\n",
       "      <td>0.357448</td>\n",
       "      <td>0.0</td>\n",
       "      <td>0.171633</td>\n",
       "      <td>0.104743</td>\n",
       "    </tr>\n",
       "  </tbody>\n",
       "</table>\n",
       "<p>3 rows × 26 columns</p>\n",
       "</div>"
      ],
      "text/plain": [
       "       uid   topic_0   topic_1   topic_2   topic_3   topic_4   topic_5  \\\n",
       "0  u105138  0.217540  0.101696  0.084730  0.000000  0.019010  0.093956   \n",
       "1  u108690  0.121330  0.051822  0.094301  0.000000  0.069059  0.144860   \n",
       "2  u108339  0.267844  0.049549  0.139105  0.028572  0.137017  0.239316   \n",
       "\n",
       "   topic_6   topic_7   topic_8  ...  topic_15  topic_16  topic_17  topic_18  \\\n",
       "0      0.0  0.303224  0.000000  ...  0.028374  0.095100  0.017402  0.243964   \n",
       "1      0.0  0.210577  0.115484  ...  0.034034  0.000000  0.037917  0.060741   \n",
       "2      0.0  0.000000  0.017294  ...  0.056637  0.013669  0.079249  0.064328   \n",
       "\n",
       "   topic_19  topic_20  topic_21  topic_22  topic_23  topic_24  \n",
       "0  0.592047  0.041143  0.315491       0.0  0.241500  0.196722  \n",
       "1  0.203365  0.000000  0.579062       0.0  0.419233  0.136204  \n",
       "2  0.160415  0.014407  0.357448       0.0  0.171633  0.104743  \n",
       "\n",
       "[3 rows x 26 columns]"
      ]
     },
     "execution_count": 26,
     "metadata": {},
     "output_type": "execute_result"
    }
   ],
   "source": [
    "user_embeddings_max = pd.DataFrame([i for i in users['articles'].apply(lambda x: get_user_embedding(x, 'max'), 1)])\n",
    "user_embeddings_max.columns = ['topic_{}'.format(i) for i in range(25)]\n",
    "user_embeddings_max['uid'] = users['uid'].values\n",
    "user_embeddings_max = user_embeddings_max[['uid']+['topic_{}'.format(i) for i in range(25)]]\n",
    "user_embeddings_max.head(3)"
   ]
  },
  {
   "cell_type": "markdown",
   "metadata": {},
   "source": [
    "Датасет готов - можно попробовать обучить модель. Загрузим нашу разметку"
   ]
  },
  {
   "cell_type": "code",
   "execution_count": 27,
   "metadata": {},
   "outputs": [
    {
     "data": {
      "text/html": [
       "<div>\n",
       "<style scoped>\n",
       "    .dataframe tbody tr th:only-of-type {\n",
       "        vertical-align: middle;\n",
       "    }\n",
       "\n",
       "    .dataframe tbody tr th {\n",
       "        vertical-align: top;\n",
       "    }\n",
       "\n",
       "    .dataframe thead th {\n",
       "        text-align: right;\n",
       "    }\n",
       "</style>\n",
       "<table border=\"1\" class=\"dataframe\">\n",
       "  <thead>\n",
       "    <tr style=\"text-align: right;\">\n",
       "      <th></th>\n",
       "      <th>uid</th>\n",
       "      <th>churn</th>\n",
       "    </tr>\n",
       "  </thead>\n",
       "  <tbody>\n",
       "    <tr>\n",
       "      <th>0</th>\n",
       "      <td>u107120</td>\n",
       "      <td>0</td>\n",
       "    </tr>\n",
       "    <tr>\n",
       "      <th>1</th>\n",
       "      <td>u102277</td>\n",
       "      <td>0</td>\n",
       "    </tr>\n",
       "    <tr>\n",
       "      <th>2</th>\n",
       "      <td>u102444</td>\n",
       "      <td>0</td>\n",
       "    </tr>\n",
       "  </tbody>\n",
       "</table>\n",
       "</div>"
      ],
      "text/plain": [
       "       uid  churn\n",
       "0  u107120      0\n",
       "1  u102277      0\n",
       "2  u102444      0"
      ]
     },
     "execution_count": 27,
     "metadata": {},
     "output_type": "execute_result"
    }
   ],
   "source": [
    "target = pd.read_csv(\"users_churn.csv\")\n",
    "target.head(3)"
   ]
  },
  {
   "cell_type": "code",
   "execution_count": 28,
   "metadata": {},
   "outputs": [
    {
     "data": {
      "text/html": [
       "<div>\n",
       "<style scoped>\n",
       "    .dataframe tbody tr th:only-of-type {\n",
       "        vertical-align: middle;\n",
       "    }\n",
       "\n",
       "    .dataframe tbody tr th {\n",
       "        vertical-align: top;\n",
       "    }\n",
       "\n",
       "    .dataframe thead th {\n",
       "        text-align: right;\n",
       "    }\n",
       "</style>\n",
       "<table border=\"1\" class=\"dataframe\">\n",
       "  <thead>\n",
       "    <tr style=\"text-align: right;\">\n",
       "      <th></th>\n",
       "      <th>uid</th>\n",
       "      <th>topic_0</th>\n",
       "      <th>topic_1</th>\n",
       "      <th>topic_2</th>\n",
       "      <th>topic_3</th>\n",
       "      <th>topic_4</th>\n",
       "      <th>topic_5</th>\n",
       "      <th>topic_6</th>\n",
       "      <th>topic_7</th>\n",
       "      <th>topic_8</th>\n",
       "      <th>...</th>\n",
       "      <th>topic_16</th>\n",
       "      <th>topic_17</th>\n",
       "      <th>topic_18</th>\n",
       "      <th>topic_19</th>\n",
       "      <th>topic_20</th>\n",
       "      <th>topic_21</th>\n",
       "      <th>topic_22</th>\n",
       "      <th>topic_23</th>\n",
       "      <th>topic_24</th>\n",
       "      <th>churn</th>\n",
       "    </tr>\n",
       "  </thead>\n",
       "  <tbody>\n",
       "    <tr>\n",
       "      <th>0</th>\n",
       "      <td>u105138</td>\n",
       "      <td>0.096049</td>\n",
       "      <td>0.024047</td>\n",
       "      <td>0.014122</td>\n",
       "      <td>0.000000</td>\n",
       "      <td>0.003168</td>\n",
       "      <td>0.046871</td>\n",
       "      <td>0.0</td>\n",
       "      <td>0.096490</td>\n",
       "      <td>0.000000</td>\n",
       "      <td>...</td>\n",
       "      <td>0.028735</td>\n",
       "      <td>0.002900</td>\n",
       "      <td>0.066201</td>\n",
       "      <td>0.187086</td>\n",
       "      <td>0.006857</td>\n",
       "      <td>0.089384</td>\n",
       "      <td>0.0</td>\n",
       "      <td>0.069510</td>\n",
       "      <td>0.042048</td>\n",
       "      <td>0</td>\n",
       "    </tr>\n",
       "    <tr>\n",
       "      <th>1</th>\n",
       "      <td>u108690</td>\n",
       "      <td>0.063753</td>\n",
       "      <td>0.015643</td>\n",
       "      <td>0.023297</td>\n",
       "      <td>0.000000</td>\n",
       "      <td>0.020902</td>\n",
       "      <td>0.036537</td>\n",
       "      <td>0.0</td>\n",
       "      <td>0.089096</td>\n",
       "      <td>0.019247</td>\n",
       "      <td>...</td>\n",
       "      <td>0.000000</td>\n",
       "      <td>0.011247</td>\n",
       "      <td>0.020623</td>\n",
       "      <td>0.078423</td>\n",
       "      <td>0.000000</td>\n",
       "      <td>0.229695</td>\n",
       "      <td>0.0</td>\n",
       "      <td>0.180235</td>\n",
       "      <td>0.022701</td>\n",
       "      <td>1</td>\n",
       "    </tr>\n",
       "    <tr>\n",
       "      <th>2</th>\n",
       "      <td>u108339</td>\n",
       "      <td>0.114697</td>\n",
       "      <td>0.008258</td>\n",
       "      <td>0.052206</td>\n",
       "      <td>0.004762</td>\n",
       "      <td>0.049720</td>\n",
       "      <td>0.079993</td>\n",
       "      <td>0.0</td>\n",
       "      <td>0.000000</td>\n",
       "      <td>0.007349</td>\n",
       "      <td>...</td>\n",
       "      <td>0.002278</td>\n",
       "      <td>0.020920</td>\n",
       "      <td>0.019241</td>\n",
       "      <td>0.044628</td>\n",
       "      <td>0.002401</td>\n",
       "      <td>0.142947</td>\n",
       "      <td>0.0</td>\n",
       "      <td>0.084704</td>\n",
       "      <td>0.076403</td>\n",
       "      <td>1</td>\n",
       "    </tr>\n",
       "  </tbody>\n",
       "</table>\n",
       "<p>3 rows × 27 columns</p>\n",
       "</div>"
      ],
      "text/plain": [
       "       uid   topic_0   topic_1   topic_2   topic_3   topic_4   topic_5  \\\n",
       "0  u105138  0.096049  0.024047  0.014122  0.000000  0.003168  0.046871   \n",
       "1  u108690  0.063753  0.015643  0.023297  0.000000  0.020902  0.036537   \n",
       "2  u108339  0.114697  0.008258  0.052206  0.004762  0.049720  0.079993   \n",
       "\n",
       "   topic_6   topic_7   topic_8  ...  topic_16  topic_17  topic_18  topic_19  \\\n",
       "0      0.0  0.096490  0.000000  ...  0.028735  0.002900  0.066201  0.187086   \n",
       "1      0.0  0.089096  0.019247  ...  0.000000  0.011247  0.020623  0.078423   \n",
       "2      0.0  0.000000  0.007349  ...  0.002278  0.020920  0.019241  0.044628   \n",
       "\n",
       "   topic_20  topic_21  topic_22  topic_23  topic_24  churn  \n",
       "0  0.006857  0.089384       0.0  0.069510  0.042048      0  \n",
       "1  0.000000  0.229695       0.0  0.180235  0.022701      1  \n",
       "2  0.002401  0.142947       0.0  0.084704  0.076403      1  \n",
       "\n",
       "[3 rows x 27 columns]"
      ]
     },
     "execution_count": 28,
     "metadata": {},
     "output_type": "execute_result"
    }
   ],
   "source": [
    "X_mean = pd.merge(user_embeddings_mean, target, 'left')\n",
    "X_mean.head(3)"
   ]
  },
  {
   "cell_type": "code",
   "execution_count": 29,
   "metadata": {},
   "outputs": [
    {
     "data": {
      "text/html": [
       "<div>\n",
       "<style scoped>\n",
       "    .dataframe tbody tr th:only-of-type {\n",
       "        vertical-align: middle;\n",
       "    }\n",
       "\n",
       "    .dataframe tbody tr th {\n",
       "        vertical-align: top;\n",
       "    }\n",
       "\n",
       "    .dataframe thead th {\n",
       "        text-align: right;\n",
       "    }\n",
       "</style>\n",
       "<table border=\"1\" class=\"dataframe\">\n",
       "  <thead>\n",
       "    <tr style=\"text-align: right;\">\n",
       "      <th></th>\n",
       "      <th>uid</th>\n",
       "      <th>topic_0</th>\n",
       "      <th>topic_1</th>\n",
       "      <th>topic_2</th>\n",
       "      <th>topic_3</th>\n",
       "      <th>topic_4</th>\n",
       "      <th>topic_5</th>\n",
       "      <th>topic_6</th>\n",
       "      <th>topic_7</th>\n",
       "      <th>topic_8</th>\n",
       "      <th>...</th>\n",
       "      <th>topic_16</th>\n",
       "      <th>topic_17</th>\n",
       "      <th>topic_18</th>\n",
       "      <th>topic_19</th>\n",
       "      <th>topic_20</th>\n",
       "      <th>topic_21</th>\n",
       "      <th>topic_22</th>\n",
       "      <th>topic_23</th>\n",
       "      <th>topic_24</th>\n",
       "      <th>churn</th>\n",
       "    </tr>\n",
       "  </thead>\n",
       "  <tbody>\n",
       "    <tr>\n",
       "      <th>0</th>\n",
       "      <td>u105138</td>\n",
       "      <td>0.101154</td>\n",
       "      <td>0.0</td>\n",
       "      <td>0.000000</td>\n",
       "      <td>0.0</td>\n",
       "      <td>0.000000</td>\n",
       "      <td>0.050220</td>\n",
       "      <td>0.0</td>\n",
       "      <td>0.086987</td>\n",
       "      <td>0.000000</td>\n",
       "      <td>...</td>\n",
       "      <td>0.0</td>\n",
       "      <td>0.000000</td>\n",
       "      <td>0.000000</td>\n",
       "      <td>0.118022</td>\n",
       "      <td>0.0</td>\n",
       "      <td>0.015841</td>\n",
       "      <td>0.0</td>\n",
       "      <td>0.037491</td>\n",
       "      <td>0.009576</td>\n",
       "      <td>0</td>\n",
       "    </tr>\n",
       "    <tr>\n",
       "      <th>1</th>\n",
       "      <td>u108690</td>\n",
       "      <td>0.068119</td>\n",
       "      <td>0.0</td>\n",
       "      <td>0.009674</td>\n",
       "      <td>0.0</td>\n",
       "      <td>0.012214</td>\n",
       "      <td>0.009462</td>\n",
       "      <td>0.0</td>\n",
       "      <td>0.069015</td>\n",
       "      <td>0.000000</td>\n",
       "      <td>...</td>\n",
       "      <td>0.0</td>\n",
       "      <td>0.005576</td>\n",
       "      <td>0.015466</td>\n",
       "      <td>0.066325</td>\n",
       "      <td>0.0</td>\n",
       "      <td>0.186745</td>\n",
       "      <td>0.0</td>\n",
       "      <td>0.155577</td>\n",
       "      <td>0.000000</td>\n",
       "      <td>1</td>\n",
       "    </tr>\n",
       "    <tr>\n",
       "      <th>2</th>\n",
       "      <td>u108339</td>\n",
       "      <td>0.071337</td>\n",
       "      <td>0.0</td>\n",
       "      <td>0.024075</td>\n",
       "      <td>0.0</td>\n",
       "      <td>0.040930</td>\n",
       "      <td>0.043530</td>\n",
       "      <td>0.0</td>\n",
       "      <td>0.000000</td>\n",
       "      <td>0.006427</td>\n",
       "      <td>...</td>\n",
       "      <td>0.0</td>\n",
       "      <td>0.010856</td>\n",
       "      <td>0.000000</td>\n",
       "      <td>0.021237</td>\n",
       "      <td>0.0</td>\n",
       "      <td>0.133885</td>\n",
       "      <td>0.0</td>\n",
       "      <td>0.084889</td>\n",
       "      <td>0.081331</td>\n",
       "      <td>1</td>\n",
       "    </tr>\n",
       "  </tbody>\n",
       "</table>\n",
       "<p>3 rows × 27 columns</p>\n",
       "</div>"
      ],
      "text/plain": [
       "       uid   topic_0  topic_1   topic_2  topic_3   topic_4   topic_5  topic_6  \\\n",
       "0  u105138  0.101154      0.0  0.000000      0.0  0.000000  0.050220      0.0   \n",
       "1  u108690  0.068119      0.0  0.009674      0.0  0.012214  0.009462      0.0   \n",
       "2  u108339  0.071337      0.0  0.024075      0.0  0.040930  0.043530      0.0   \n",
       "\n",
       "    topic_7   topic_8  ...  topic_16  topic_17  topic_18  topic_19  topic_20  \\\n",
       "0  0.086987  0.000000  ...       0.0  0.000000  0.000000  0.118022       0.0   \n",
       "1  0.069015  0.000000  ...       0.0  0.005576  0.015466  0.066325       0.0   \n",
       "2  0.000000  0.006427  ...       0.0  0.010856  0.000000  0.021237       0.0   \n",
       "\n",
       "   topic_21  topic_22  topic_23  topic_24  churn  \n",
       "0  0.015841       0.0  0.037491  0.009576      0  \n",
       "1  0.186745       0.0  0.155577  0.000000      1  \n",
       "2  0.133885       0.0  0.084889  0.081331      1  \n",
       "\n",
       "[3 rows x 27 columns]"
      ]
     },
     "execution_count": 29,
     "metadata": {},
     "output_type": "execute_result"
    }
   ],
   "source": [
    "X_median = pd.merge(user_embeddings_median, target, 'left')\n",
    "X_median.head(3)"
   ]
  },
  {
   "cell_type": "code",
   "execution_count": 30,
   "metadata": {},
   "outputs": [
    {
     "data": {
      "text/html": [
       "<div>\n",
       "<style scoped>\n",
       "    .dataframe tbody tr th:only-of-type {\n",
       "        vertical-align: middle;\n",
       "    }\n",
       "\n",
       "    .dataframe tbody tr th {\n",
       "        vertical-align: top;\n",
       "    }\n",
       "\n",
       "    .dataframe thead th {\n",
       "        text-align: right;\n",
       "    }\n",
       "</style>\n",
       "<table border=\"1\" class=\"dataframe\">\n",
       "  <thead>\n",
       "    <tr style=\"text-align: right;\">\n",
       "      <th></th>\n",
       "      <th>uid</th>\n",
       "      <th>topic_0</th>\n",
       "      <th>topic_1</th>\n",
       "      <th>topic_2</th>\n",
       "      <th>topic_3</th>\n",
       "      <th>topic_4</th>\n",
       "      <th>topic_5</th>\n",
       "      <th>topic_6</th>\n",
       "      <th>topic_7</th>\n",
       "      <th>topic_8</th>\n",
       "      <th>...</th>\n",
       "      <th>topic_16</th>\n",
       "      <th>topic_17</th>\n",
       "      <th>topic_18</th>\n",
       "      <th>topic_19</th>\n",
       "      <th>topic_20</th>\n",
       "      <th>topic_21</th>\n",
       "      <th>topic_22</th>\n",
       "      <th>topic_23</th>\n",
       "      <th>topic_24</th>\n",
       "      <th>churn</th>\n",
       "    </tr>\n",
       "  </thead>\n",
       "  <tbody>\n",
       "    <tr>\n",
       "      <th>0</th>\n",
       "      <td>u105138</td>\n",
       "      <td>0.217540</td>\n",
       "      <td>0.101696</td>\n",
       "      <td>0.084730</td>\n",
       "      <td>0.000000</td>\n",
       "      <td>0.019010</td>\n",
       "      <td>0.093956</td>\n",
       "      <td>0.0</td>\n",
       "      <td>0.303224</td>\n",
       "      <td>0.000000</td>\n",
       "      <td>...</td>\n",
       "      <td>0.095100</td>\n",
       "      <td>0.017402</td>\n",
       "      <td>0.243964</td>\n",
       "      <td>0.592047</td>\n",
       "      <td>0.041143</td>\n",
       "      <td>0.315491</td>\n",
       "      <td>0.0</td>\n",
       "      <td>0.241500</td>\n",
       "      <td>0.196722</td>\n",
       "      <td>0</td>\n",
       "    </tr>\n",
       "    <tr>\n",
       "      <th>1</th>\n",
       "      <td>u108690</td>\n",
       "      <td>0.121330</td>\n",
       "      <td>0.051822</td>\n",
       "      <td>0.094301</td>\n",
       "      <td>0.000000</td>\n",
       "      <td>0.069059</td>\n",
       "      <td>0.144860</td>\n",
       "      <td>0.0</td>\n",
       "      <td>0.210577</td>\n",
       "      <td>0.115484</td>\n",
       "      <td>...</td>\n",
       "      <td>0.000000</td>\n",
       "      <td>0.037917</td>\n",
       "      <td>0.060741</td>\n",
       "      <td>0.203365</td>\n",
       "      <td>0.000000</td>\n",
       "      <td>0.579062</td>\n",
       "      <td>0.0</td>\n",
       "      <td>0.419233</td>\n",
       "      <td>0.136204</td>\n",
       "      <td>1</td>\n",
       "    </tr>\n",
       "    <tr>\n",
       "      <th>2</th>\n",
       "      <td>u108339</td>\n",
       "      <td>0.267844</td>\n",
       "      <td>0.049549</td>\n",
       "      <td>0.139105</td>\n",
       "      <td>0.028572</td>\n",
       "      <td>0.137017</td>\n",
       "      <td>0.239316</td>\n",
       "      <td>0.0</td>\n",
       "      <td>0.000000</td>\n",
       "      <td>0.017294</td>\n",
       "      <td>...</td>\n",
       "      <td>0.013669</td>\n",
       "      <td>0.079249</td>\n",
       "      <td>0.064328</td>\n",
       "      <td>0.160415</td>\n",
       "      <td>0.014407</td>\n",
       "      <td>0.357448</td>\n",
       "      <td>0.0</td>\n",
       "      <td>0.171633</td>\n",
       "      <td>0.104743</td>\n",
       "      <td>1</td>\n",
       "    </tr>\n",
       "  </tbody>\n",
       "</table>\n",
       "<p>3 rows × 27 columns</p>\n",
       "</div>"
      ],
      "text/plain": [
       "       uid   topic_0   topic_1   topic_2   topic_3   topic_4   topic_5  \\\n",
       "0  u105138  0.217540  0.101696  0.084730  0.000000  0.019010  0.093956   \n",
       "1  u108690  0.121330  0.051822  0.094301  0.000000  0.069059  0.144860   \n",
       "2  u108339  0.267844  0.049549  0.139105  0.028572  0.137017  0.239316   \n",
       "\n",
       "   topic_6   topic_7   topic_8  ...  topic_16  topic_17  topic_18  topic_19  \\\n",
       "0      0.0  0.303224  0.000000  ...  0.095100  0.017402  0.243964  0.592047   \n",
       "1      0.0  0.210577  0.115484  ...  0.000000  0.037917  0.060741  0.203365   \n",
       "2      0.0  0.000000  0.017294  ...  0.013669  0.079249  0.064328  0.160415   \n",
       "\n",
       "   topic_20  topic_21  topic_22  topic_23  topic_24  churn  \n",
       "0  0.041143  0.315491       0.0  0.241500  0.196722      0  \n",
       "1  0.000000  0.579062       0.0  0.419233  0.136204      1  \n",
       "2  0.014407  0.357448       0.0  0.171633  0.104743      1  \n",
       "\n",
       "[3 rows x 27 columns]"
      ]
     },
     "execution_count": 30,
     "metadata": {},
     "output_type": "execute_result"
    }
   ],
   "source": [
    "X_max = pd.merge(user_embeddings_max, target, 'left')\n",
    "X_max.head(3)"
   ]
  },
  {
   "cell_type": "code",
   "execution_count": 31,
   "metadata": {},
   "outputs": [],
   "source": [
    "from sklearn.linear_model import LogisticRegression\n",
    "from sklearn.model_selection import train_test_split\n",
    "#import itertools\n",
    "\n",
    "import matplotlib.pyplot as plt\n",
    "\n",
    "%matplotlib inline"
   ]
  },
  {
   "cell_type": "code",
   "execution_count": 32,
   "metadata": {},
   "outputs": [],
   "source": [
    "#разделим данные на train/test\n",
    "X_train_mean, X_test_mean, y_train_mean, y_test_mean = train_test_split(X_mean[['topic_{}'.format(i) for i in range(25)]], \n",
    "                                                    X_mean['churn'], random_state=0)\n",
    "\n",
    "X_train_median, X_test_median, y_train_median, y_test_median = train_test_split(\n",
    "    X_median[['topic_{}'.format(i) for i in range(25)]], X_median['churn'], random_state=0)\n",
    "\n",
    "X_train_max, X_test_max, y_train_max, y_test_max = train_test_split(\n",
    "    X_max[['topic_{}'.format(i) for i in range(25)]], X_max['churn'], random_state=0)"
   ]
  },
  {
   "cell_type": "code",
   "execution_count": 34,
   "metadata": {},
   "outputs": [
    {
     "data": {
      "text/plain": [
       "LogisticRegression()"
      ]
     },
     "execution_count": 34,
     "metadata": {},
     "output_type": "execute_result"
    }
   ],
   "source": [
    "logreg_mean = LogisticRegression()\n",
    "logreg_median = LogisticRegression()\n",
    "logreg_max = LogisticRegression()\n",
    "#обучим \n",
    "logreg_mean.fit(X_train_mean, y_train_mean)\n",
    "logreg_median.fit(X_train_median, y_train_median)\n",
    "logreg_max.fit(X_train_max, y_train_max)"
   ]
  },
  {
   "cell_type": "code",
   "execution_count": 35,
   "metadata": {},
   "outputs": [
    {
     "name": "stdout",
     "output_type": "stream",
     "text": [
      "[0.09256488 0.03204475 0.51071214 0.30719283 0.05952857 0.10910994\n",
      " 0.04887251 0.0340148  0.02148937 0.0430986 ]\n",
      "[0.08264669 0.01628886 0.67579058 0.46858656 0.03535495 0.10956014\n",
      " 0.03522128 0.12102224 0.01275644 0.03619629]\n",
      "[0.03157485 0.00787531 0.86277286 0.13665899 0.0140348  0.05207043\n",
      " 0.00246645 0.04359387 0.00629383 0.09099225]\n"
     ]
    }
   ],
   "source": [
    "#наши прогнозы для тестовой выборки\n",
    "preds_mean = logreg_mean.predict_proba(X_test_mean)[:, 1]\n",
    "print(preds_mean[:10])\n",
    "\n",
    "preds_median = logreg_median.predict_proba(X_test_median)[:, 1]\n",
    "print(preds_median[:10])\n",
    "\n",
    "preds_max = logreg_max.predict_proba(X_test_max)[:, 1]\n",
    "print(preds_max[:10])"
   ]
  },
  {
   "cell_type": "code",
   "execution_count": 36,
   "metadata": {},
   "outputs": [],
   "source": [
    "from sklearn.metrics import f1_score, roc_auc_score, precision_score, classification_report, precision_recall_curve, confusion_matrix"
   ]
  },
  {
   "cell_type": "markdown",
   "metadata": {},
   "source": [
    "### Рассчитаем Precision, Recall, F_score"
   ]
  },
  {
   "cell_type": "code",
   "execution_count": 37,
   "metadata": {},
   "outputs": [],
   "source": [
    "import itertools"
   ]
  },
  {
   "cell_type": "code",
   "execution_count": 40,
   "metadata": {},
   "outputs": [
    {
     "name": "stdout",
     "output_type": "stream",
     "text": [
      "Method = Mean. Best Threshold=0.278297, F-Score=0.738, Precision=0.698, Recall=0.784\n",
      "Method = Median. Best Threshold=0.266695, F-Score=0.811, Precision=0.761, Recall=0.869\n",
      "Method = Mean. Best Threshold=0.351506, F-Score=0.835, Precision=0.825, Recall=0.845\n"
     ]
    }
   ],
   "source": [
    "precision_mean, recall_mean, thresholds_mean = precision_recall_curve(y_test_mean, preds_mean)\n",
    "fscore_mean = (2 * precision_mean * recall_mean) / (precision_mean + recall_mean)\n",
    "# locate the index of the largest f score\n",
    "ix_mean = np.argmax(fscore_mean)\n",
    "print('Method = Mean. Best Threshold=%f, F-Score=%.3f, Precision=%.3f, Recall=%.3f' % (thresholds_mean[ix_mean], \n",
    "                                                                        fscore_mean[ix_mean],\n",
    "                                                                        precision_mean[ix_mean],\n",
    "                                                                        recall_mean[ix_mean]))\n",
    "\n",
    "precision_median, recall_median, thresholds_median = precision_recall_curve(y_test_median, preds_median)\n",
    "fscore_median = (2 * precision_median * recall_median) / (precision_median + recall_median)\n",
    "# locate the index of the largest f score\n",
    "ix_median = np.argmax(fscore_median)\n",
    "print('Method = Median. Best Threshold=%f, F-Score=%.3f, Precision=%.3f, Recall=%.3f' % (thresholds_median[ix_median], \n",
    "                                                                        fscore_median[ix_median],\n",
    "                                                                        precision_median[ix_median],\n",
    "                                                                        recall_median[ix_median]))\n",
    "\n",
    "precision_max, recall_max, thresholds_max = precision_recall_curve(y_test_max, preds_max)\n",
    "fscore_max = (2 * precision_max * recall_max) / (precision_max + recall_max)\n",
    "# locate the index of the largest f score\n",
    "ix_max = np.argmax(fscore_max)\n",
    "print('Method = Mean. Best Threshold=%f, F-Score=%.3f, Precision=%.3f, Recall=%.3f' % (thresholds_max[ix_max], \n",
    "                                                                        fscore_max[ix_max],\n",
    "                                                                        precision_max[ix_max],\n",
    "                                                                        recall_max[ix_max]))"
   ]
  },
  {
   "cell_type": "code",
   "execution_count": 41,
   "metadata": {},
   "outputs": [],
   "source": [
    "def plot_confusion_matrix(cm, classes,\n",
    "                          normalize=False,\n",
    "                          title='Confusion matrix',\n",
    "                          cmap=plt.cm.Blues):\n",
    "    \"\"\"\n",
    "    This function prints and plots the confusion matrix.\n",
    "    Normalization can be applied by setting `normalize=True`.\n",
    "    \"\"\"\n",
    "    plt.imshow(cm, interpolation='nearest', cmap=cmap)\n",
    "    plt.title(title)\n",
    "    plt.colorbar()\n",
    "    tick_marks = np.arange(len(classes))\n",
    "    plt.xticks(tick_marks, classes, rotation=45)\n",
    "    plt.yticks(tick_marks, classes)\n",
    "\n",
    "    if normalize:\n",
    "        cm = cm.astype('float') / cm.sum(axis=1)[:, np.newaxis]\n",
    "        print(\"Normalized confusion matrix\")\n",
    "    else:\n",
    "        print('Confusion matrix, without normalization')\n",
    "\n",
    "    print(cm)\n",
    "\n",
    "    thresh = cm.max() / 2.\n",
    "    for i, j in itertools.product(range(cm.shape[0]), range(cm.shape[1])):\n",
    "        plt.text(j, i, cm[i, j],\n",
    "                 horizontalalignment=\"center\",\n",
    "                 color=\"white\" if cm[i, j] > thresh else \"black\")\n",
    "\n",
    "    plt.tight_layout()\n",
    "    plt.ylabel('True label')\n",
    "    plt.xlabel('Predicted label')"
   ]
  },
  {
   "cell_type": "code",
   "execution_count": 44,
   "metadata": {},
   "outputs": [
    {
     "name": "stdout",
     "output_type": "stream",
     "text": [
      "Confusion matrix, without normalization\n",
      "[[1672   83]\n",
      " [  54  191]]\n"
     ]
    },
    {
     "data": {
      "image/png": "[encoded data removed]",
      "text/plain": [
       "<Figure size 360x288 with 2 Axes>"
      ]
     },
     "metadata": {
      "needs_background": "light"
     },
     "output_type": "display_data"
    }
   ],
   "source": [
    "#мы уже нашли ранее \"оптимальный\" порог, когда максимизировали f_score\n",
    "font = {'size' : 15}\n",
    "\n",
    "plt.rc('font', **font)\n",
    "\n",
    "cnf_matrix = confusion_matrix(y_test_mean, preds_mean>thresholds_mean[ix_mean])\n",
    "plt.figure(figsize=(5, 4))\n",
    "plot_confusion_matrix(cnf_matrix, classes=['Non-Churn', 'churn'],\n",
    "                      title='Confusion matrix, method mean')\n",
    "# plt.savefig(\"conf_matrix.png\")\n",
    "plt.show()"
   ]
  },
  {
   "cell_type": "code",
   "execution_count": 45,
   "metadata": {},
   "outputs": [
    {
     "name": "stdout",
     "output_type": "stream",
     "text": [
      "Confusion matrix, without normalization\n",
      "[[1688   67]\n",
      " [  33  212]]\n"
     ]
    },
    {
     "data": {
      "image/png": "[encoded data removed]",
      "text/plain": [
       "<Figure size 360x288 with 2 Axes>"
      ]
     },
     "metadata": {
      "needs_background": "light"
     },
     "output_type": "display_data"
    }
   ],
   "source": [
    "#мы уже нашли ранее \"оптимальный\" порог, когда максимизировали f_score\n",
    "font = {'size' : 15}\n",
    "\n",
    "plt.rc('font', **font)\n",
    "\n",
    "cnf_matrix = confusion_matrix(y_test_median, preds_median>thresholds_median[ix_median])\n",
    "plt.figure(figsize=(5, 4))\n",
    "plot_confusion_matrix(cnf_matrix, classes=['Non-Churn', 'churn'],\n",
    "                      title='Confusion matrix, method median')\n",
    "# plt.savefig(\"conf_matrix.png\")\n",
    "plt.show()"
   ]
  },
  {
   "cell_type": "code",
   "execution_count": 46,
   "metadata": {},
   "outputs": [
    {
     "name": "stdout",
     "output_type": "stream",
     "text": [
      "Confusion matrix, without normalization\n",
      "[[1711   44]\n",
      " [  39  206]]\n"
     ]
    },
    {
     "data": {
      "image/png": "[encoded data removed]",
      "text/plain": [
       "<Figure size 360x288 with 2 Axes>"
      ]
     },
     "metadata": {
      "needs_background": "light"
     },
     "output_type": "display_data"
    }
   ],
   "source": [
    "#мы уже нашли ранее \"оптимальный\" порог, когда максимизировали f_score\n",
    "font = {'size' : 15}\n",
    "\n",
    "plt.rc('font', **font)\n",
    "\n",
    "cnf_matrix = confusion_matrix(y_test_max, preds_max>thresholds_max[ix_max])\n",
    "plt.figure(figsize=(5, 4))\n",
    "plot_confusion_matrix(cnf_matrix, classes=['Non-Churn', 'churn'],\n",
    "                      title='Confusion matrix, method mean')\n",
    "# plt.savefig(\"conf_matrix.png\")\n",
    "plt.show()"
   ]
  },
  {
   "cell_type": "code",
   "execution_count": 47,
   "metadata": {},
   "outputs": [
    {
     "name": "stdout",
     "output_type": "stream",
     "text": [
      "ROC AUC score for mean method: 0.9670957613814757\n",
      "ROC AUC score for median method: 0.979538345252631\n",
      "ROC AUC score for max method: 0.9833455433455432\n"
     ]
    }
   ],
   "source": [
    "roc_auc_mean = roc_auc_score(y_test_mean, preds_mean)\n",
    "roc_auc_median = roc_auc_score(y_test_median, preds_median)\n",
    "roc_auc_max = roc_auc_score(y_test_max, preds_max)\n",
    "\n",
    "print(f'ROC AUC score for mean method: {roc_auc_mean}')\n",
    "print(f'ROC AUC score for median method: {roc_auc_median}')\n",
    "print(f'ROC AUC score for max method: {roc_auc_max}')"
   ]
  },
  {
   "cell_type": "markdown",
   "metadata": {},
   "source": [
    "## Задание 5.\n",
    "\n",
    "Сформируем итоговую таблицу метрик для различных методов подсчета user embeddings:"
   ]
  },
  {
   "cell_type": "code",
   "execution_count": 51,
   "metadata": {},
   "outputs": [
    {
     "data": {
      "text/html": [
       "<div>\n",
       "<style scoped>\n",
       "    .dataframe tbody tr th:only-of-type {\n",
       "        vertical-align: middle;\n",
       "    }\n",
       "\n",
       "    .dataframe tbody tr th {\n",
       "        vertical-align: top;\n",
       "    }\n",
       "\n",
       "    .dataframe thead th {\n",
       "        text-align: right;\n",
       "    }\n",
       "</style>\n",
       "<table border=\"1\" class=\"dataframe\">\n",
       "  <thead>\n",
       "    <tr style=\"text-align: right;\">\n",
       "      <th></th>\n",
       "      <th>Precision</th>\n",
       "      <th>Recall</th>\n",
       "      <th>F1-score</th>\n",
       "      <th>ROC AUC score</th>\n",
       "    </tr>\n",
       "  </thead>\n",
       "  <tbody>\n",
       "    <tr>\n",
       "      <th>Mean method</th>\n",
       "      <td>0.698182</td>\n",
       "      <td>0.783673</td>\n",
       "      <td>0.738462</td>\n",
       "      <td>0.967096</td>\n",
       "    </tr>\n",
       "    <tr>\n",
       "      <th>Median method</th>\n",
       "      <td>0.760714</td>\n",
       "      <td>0.869388</td>\n",
       "      <td>0.811429</td>\n",
       "      <td>0.979538</td>\n",
       "    </tr>\n",
       "    <tr>\n",
       "      <th>Max method</th>\n",
       "      <td>0.824701</td>\n",
       "      <td>0.844898</td>\n",
       "      <td>0.834677</td>\n",
       "      <td>0.983346</td>\n",
       "    </tr>\n",
       "  </tbody>\n",
       "</table>\n",
       "</div>"
      ],
      "text/plain": [
       "               Precision    Recall  F1-score  ROC AUC score\n",
       "Mean method     0.698182  0.783673  0.738462       0.967096\n",
       "Median method   0.760714  0.869388  0.811429       0.979538\n",
       "Max method      0.824701  0.844898  0.834677       0.983346"
      ]
     },
     "execution_count": 51,
     "metadata": {},
     "output_type": "execute_result"
    }
   ],
   "source": [
    "report = pd.DataFrame(\n",
    "    {\n",
    "        'Precision': [precision_mean[ix_mean], precision_median[ix_median], precision_max[ix_max]],\n",
    "        'Recall': [recall_mean[ix_mean], recall_median[ix_median], recall_max[ix_max]],\n",
    "        'F1-score': [fscore_mean[ix_mean], fscore_median[ix_median], fscore_max[ix_max]],\n",
    "        'ROC AUC score': [roc_auc_mean, roc_auc_median, roc_auc_max]\n",
    "    },\n",
    "    index=['Mean method', 'Median method', 'Max method']\n",
    ")\n",
    "\n",
    "report"
   ]
  },
  {
   "cell_type": "markdown",
   "metadata": {},
   "source": [
    "## Задание 6. Выводы.\n",
    "\n",
    "Как видно, практически все метрики растут при смене методов расчета user embeddings: mean method -> median method -> max method. При смене median method на max method несущественно падает Recall.\n",
    "\n",
    "Попробуем объяснить, почему так происходит.\n",
    "\n",
    "Представим матрицу векторов статей пользователя. Столбцы - это статьи, строки - темы. Если у нас имеется несколько статей, с большой вероятностью отнесенных к определенной теме, а в остальных статьях будут нули на этой теме, то вместо того, чтобы четко соотнести интерес пользователя к этой теме, мы наоборот занижаем это значение взятием среднего. Поэтому результат получается самым худшим.\n",
    "\n",
    "При взятии медианы мы часто зануляем значение \"интереса\" пользователя к тематике, если статей этой тематики недостаточно много. Но при этом хорошо улавливаем основные тематики интересов пользователя.\n",
    "\n",
    "Как показал эксперимент, лучшим методом оказалось взятие максимума. При этом мы не уменьшаем и не зануляем средние и мелкие блоки тем, и также хорошо улавливаем крупные. То есть при таком методе подсчета, можно сказать, что модель хорошо улавливает и основные интересы пользователя, но также отмечает интерес к малочисленным, но хорошо кластеризованным статьям."
   ]
  }
 ],
 "metadata": {
  "kernelspec": {
   "display_name": "Python 3",
   "language": "python",
   "name": "python3"
  },
  "language_info": {
   "codemirror_mode": {
    "name": "ipython",
    "version": 3
   },
   "file_extension": ".py",
   "mimetype": "text/x-python",
   "name": "python",
   "nbconvert_exporter": "python",
   "pygments_lexer": "ipython3",
   "version": "3.8.5"
  }
 },
 "nbformat": 4,
 "nbformat_minor": 2
}
